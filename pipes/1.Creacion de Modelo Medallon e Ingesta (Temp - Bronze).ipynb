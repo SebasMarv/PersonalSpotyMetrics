{
 "cells": [
  {
   "cell_type": "markdown",
   "metadata": {
    "application/vnd.databricks.v1+cell": {
     "cellMetadata": {},
     "inputWidgets": {},
     "nuid": "479446f9-45cb-4c0c-a7a7-6bcf5860911c",
     "showTitle": false,
     "tableResultSettingsMap": {},
     "title": ""
    }
   },
   "source": [
    "Configuración de las conexiones, permisos y accesos al Datalake, ademas de la ingesta inicial de datos en la capa bronze."
   ]
  },
  {
   "cell_type": "code",
   "execution_count": 0,
   "metadata": {
    "application/vnd.databricks.v1+cell": {
     "cellMetadata": {
      "byteLimit": 2048000,
      "rowLimit": 10000
     },
     "inputWidgets": {},
     "nuid": "9545e22a-f277-4f6a-8639-74c9f53d8ae5",
     "showTitle": false,
     "tableResultSettingsMap": {},
     "title": ""
    }
   },
   "outputs": [
    {
     "output_type": "stream",
     "name": "stdout",
     "output_type": "stream",
     "text": [
      "Out[1]: True"
     ]
    }
   ],
   "source": [
    "mount_point = \"/mnt/dlake\"\n",
    "\n",
    "# Creacion de modelo medallon en datalake\n",
    "dbutils.fs.mkdirs(f\"dbfs:{mount_point}/amarquez/PersonalSpotyMetrics/data/temp\")\n",
    "dbutils.fs.mkdirs(f\"dbfs:{mount_point}/amarquez/PersonalSpotyMetrics/data/bronze\")\n",
    "dbutils.fs.mkdirs(f\"dbfs:{mount_point}/amarquez/PersonalSpotyMetrics/data/silver\")\n",
    "dbutils.fs.mkdirs(f\"dbfs:{mount_point}/amarquez/PersonalSpotyMetrics/data/golden\")"
   ]
  },
  {
   "cell_type": "code",
   "execution_count": 0,
   "metadata": {
    "application/vnd.databricks.v1+cell": {
     "cellMetadata": {
      "byteLimit": 2048000,
      "rowLimit": 10000
     },
     "inputWidgets": {},
     "nuid": "036538ec-12c5-49b6-85ab-41ff47c18b33",
     "showTitle": false,
     "tableResultSettingsMap": {},
     "title": ""
    }
   },
   "outputs": [
    {
     "output_type": "stream",
     "name": "stdout",
     "output_type": "stream",
     "text": [
      "Out[3]: [FileInfo(path='dbfs:/mnt/dlake/amarquez/PersonalSpotyMetrics/data/bronze/', name='bronze/', size=0, modificationTime=0),\n FileInfo(path='dbfs:/mnt/dlake/amarquez/PersonalSpotyMetrics/data/golden/', name='golden/', size=0, modificationTime=0),\n FileInfo(path='dbfs:/mnt/dlake/amarquez/PersonalSpotyMetrics/data/silver/', name='silver/', size=0, modificationTime=0),\n FileInfo(path='dbfs:/mnt/dlake/amarquez/PersonalSpotyMetrics/data/temp/', name='temp/', size=0, modificationTime=0)]"
     ]
    }
   ],
   "source": [
    "dbutils.fs.ls(f\"dbfs:{mount_point}/amarquez/PersonalSpotyMetrics/data/\")"
   ]
  },
  {
   "cell_type": "code",
   "execution_count": 0,
   "metadata": {
    "application/vnd.databricks.v1+cell": {
     "cellMetadata": {},
     "inputWidgets": {},
     "nuid": "64a6d35f-d9d7-4fb0-ae6f-d66ab77b7bd5",
     "showTitle": false,
     "tableResultSettingsMap": {},
     "title": ""
    }
   },
   "outputs": [],
   "source": [
    "# Directorio en el cual trabajar\n"
   ]
  }
 ],
 "metadata": {
  "application/vnd.databricks.v1+notebook": {
   "computePreferences": null,
   "dashboards": [],
   "environmentMetadata": {
    "base_environment": "",
    "client": "1"
   },
   "language": "python",
   "notebookMetadata": {
    "pythonIndentUnit": 4
   },
   "notebookName": "1.Creación de Modelo Medallon e Ingesta (Temp -> Bronze)",
   "widgets": {}
  }
 },
 "nbformat": 4,
 "nbformat_minor": 0
}
